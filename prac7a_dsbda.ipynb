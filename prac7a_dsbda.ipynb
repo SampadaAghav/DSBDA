{
 "cells": [
  {
   "cell_type": "code",
   "execution_count": 3,
   "id": "56be96f1-bf75-43c7-898a-0b8f36a10394",
   "metadata": {},
   "outputs": [
    {
     "name": "stdout",
     "output_type": "stream",
     "text": [
      "TF:\n",
      "[[0.         0.6316672  0.6316672  0.         0.44943642 0.        ]\n",
      " [0.53404633 0.         0.         0.53404633 0.37997836 0.53404633]]\n",
      "IDF:\n",
      "[1.40546511 1.40546511 1.40546511 1.40546511 1.         1.40546511]\n",
      "TFIDF:\n",
      "[[0.         0.6316672  0.6316672  0.         0.44943642 0.        ]\n",
      " [0.53404633 0.         0.         0.53404633 0.37997836 0.53404633]]\n"
     ]
    },
    {
     "name": "stderr",
     "output_type": "stream",
     "text": [
      "[nltk_data] Downloading package stopwords to\n",
      "[nltk_data]     C:\\Users\\Hp\\AppData\\Roaming\\nltk_data...\n",
      "[nltk_data]   Unzipping corpora\\stopwords.zip.\n"
     ]
    }
   ],
   "source": [
    "import nltk\n",
    "from nltk.corpus import stopwords\n",
    "from sklearn.feature_extraction.text import TfidfVectorizer\n",
    "\n",
    "# Download the stopwords\n",
    "nltk.download('stopwords')\n",
    "\n",
    "# Define the documents\n",
    "documentA = 'Jupiter is the largest Planet'\n",
    "documentB = 'Mars is the fourth planet from the Sun'\n",
    "\n",
    "# Combine the documents\n",
    "documents = [documentA, documentB]\n",
    "\n",
    "# Remove stop words and convert to lowercase\n",
    "stop_words = set(stopwords.words('english'))\n",
    "documents = [' '.join([word.lower() for word in document.split() if word.lower() not in stop_words]) for document in documents]\n",
    "\n",
    "# Calculate TF, IDF, and TFIDF scores\n",
    "vectorizer = TfidfVectorizer()\n",
    "tfidf = vectorizer.fit_transform(documents)\n",
    "\n",
    "# Print the TF, IDF, and TFIDF scores\n",
    "print(\"TF:\")\n",
    "print(vectorizer.transform(documents).toarray())\n",
    "print(\"IDF:\")\n",
    "print(vectorizer.idf_)\n",
    "print(\"TFIDF:\")\n",
    "print(tfidf.toarray())\n"
   ]
  },
  {
   "cell_type": "code",
   "execution_count": 5,
   "id": "745efde0-9d81-431a-98cb-6745354f990f",
   "metadata": {},
   "outputs": [
    {
     "name": "stdout",
     "output_type": "stream",
     "text": [
      "Document A:\n",
      "TF: {'jupiter': 0.3333333333333333, 'largest': 0.3333333333333333, 'planet': 0.3333333333333333}\n",
      "IDF: {'fourth': 0.6931471805599453, 'mars': 0.6931471805599453, 'planet': 0.0, 'largest': 0.6931471805599453, 'jupiter': 0.6931471805599453, 'sun': 0.6931471805599453}\n",
      "TF-IDF: {'jupiter': 0.23104906018664842, 'largest': 0.23104906018664842, 'planet': 0.0}\n",
      "\n",
      "Document B:\n",
      "TF: {'mars': 0.25, 'fourth': 0.25, 'planet': 0.25, 'sun': 0.25}\n",
      "IDF: {'fourth': 0.6931471805599453, 'mars': 0.6931471805599453, 'planet': 0.0, 'largest': 0.6931471805599453, 'jupiter': 0.6931471805599453, 'sun': 0.6931471805599453}\n",
      "TF-IDF: {'mars': 0.17328679513998632, 'fourth': 0.17328679513998632, 'planet': 0.0, 'sun': 0.17328679513998632}\n"
     ]
    }
   ],
   "source": [
    "from collections import Counter\n",
    "import math\n",
    "\n",
    "# Define documents\n",
    "document_A = 'Jupiter is the largest Planet'\n",
    "document_B = 'Mars is the fourth planet from the Sun'\n",
    "\n",
    "# Define stop words\n",
    "stop_words = {'is', 'the', 'from'}\n",
    "\n",
    "# Tokenize documents, remove stop words, and convert to lowercase\n",
    "def preprocess_document(document):\n",
    "    tokens = document.lower().split()\n",
    "    filtered_tokens = [token for token in tokens if token not in stop_words]\n",
    "    return filtered_tokens\n",
    "\n",
    "tokens_A = preprocess_document(document_A)\n",
    "tokens_B = preprocess_document(document_B)\n",
    "\n",
    "# Calculate Term Frequency (TF)\n",
    "def calculate_tf(tokens):\n",
    "    tf = Counter(tokens)\n",
    "    total_terms = len(tokens)\n",
    "    tf = {term: freq / total_terms for term, freq in tf.items()}\n",
    "    return tf\n",
    "\n",
    "tf_A = calculate_tf(tokens_A)\n",
    "tf_B = calculate_tf(tokens_B)\n",
    "\n",
    "# Calculate Inverse Document Frequency (IDF)\n",
    "corpus = [tokens_A, tokens_B]\n",
    "unique_terms = set().union(*corpus)\n",
    "\n",
    "def calculate_idf(term):\n",
    "    doc_freq = sum(1 for document in corpus if term in document)\n",
    "    return math.log(len(corpus) / doc_freq)\n",
    "\n",
    "idf = {term: calculate_idf(term) for term in unique_terms}\n",
    "\n",
    "# Calculate TF-IDF\n",
    "def calculate_tfidf(tf, idf):\n",
    "    tfidf = {term: tf[term] * idf[term] for term in tf}\n",
    "    return tfidf\n",
    "\n",
    "tfidf_A = calculate_tfidf(tf_A, idf)\n",
    "tfidf_B = calculate_tfidf(tf_B, idf)\n",
    "\n",
    "# Print results\n",
    "print(\"Document A:\")\n",
    "print(\"TF:\", tf_A)\n",
    "print(\"IDF:\", idf)\n",
    "print(\"TF-IDF:\", tfidf_A)\n",
    "print()\n",
    "\n",
    "print(\"Document B:\")\n",
    "print(\"TF:\", tf_B)\n",
    "print(\"IDF:\", idf)\n",
    "print(\"TF-IDF:\", tfidf_B)\n"
   ]
  },
  {
   "cell_type": "code",
   "execution_count": null,
   "id": "8855ef61-6d14-4648-a5cc-368b7726fdb8",
   "metadata": {},
   "outputs": [],
   "source": []
  }
 ],
 "metadata": {
  "kernelspec": {
   "display_name": "Python 3 (ipykernel)",
   "language": "python",
   "name": "python3"
  },
  "language_info": {
   "codemirror_mode": {
    "name": "ipython",
    "version": 3
   },
   "file_extension": ".py",
   "mimetype": "text/x-python",
   "name": "python",
   "nbconvert_exporter": "python",
   "pygments_lexer": "ipython3",
   "version": "3.10.2"
  }
 },
 "nbformat": 4,
 "nbformat_minor": 5
}
